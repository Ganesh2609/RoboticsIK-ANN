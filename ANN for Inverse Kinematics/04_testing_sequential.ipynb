{
 "cells": [
  {
   "cell_type": "code",
   "execution_count": 1,
   "metadata": {},
   "outputs": [],
   "source": [
    "# importing libraries\n",
    "\n",
    "import numpy as np \n",
    "import pandas as pd\n",
    "import matplotlib.pyplot as plt \n",
    "\n",
    "from sklearn import metrics\n",
    "from sklearn.preprocessing import MinMaxScaler\n",
    "\n",
    "import torch \n",
    "from torch import nn "
   ]
  },
  {
   "cell_type": "code",
   "execution_count": 2,
   "metadata": {},
   "outputs": [],
   "source": [
    "# Define the batch size and model save paths\n",
    "\n",
    "BATCH_SIZE = 128\n",
    "PATH = 'Models/02_Sequential_10M/'"
   ]
  },
  {
   "cell_type": "code",
   "execution_count": 3,
   "metadata": {},
   "outputs": [
    {
     "data": {
      "text/html": [
       "<div>\n",
       "<style scoped>\n",
       "    .dataframe tbody tr th:only-of-type {\n",
       "        vertical-align: middle;\n",
       "    }\n",
       "\n",
       "    .dataframe tbody tr th {\n",
       "        vertical-align: top;\n",
       "    }\n",
       "\n",
       "    .dataframe thead th {\n",
       "        text-align: right;\n",
       "    }\n",
       "</style>\n",
       "<table border=\"1\" class=\"dataframe\">\n",
       "  <thead>\n",
       "    <tr style=\"text-align: right;\">\n",
       "      <th></th>\n",
       "      <th>joint_0</th>\n",
       "      <th>joint_1</th>\n",
       "      <th>joint_2</th>\n",
       "      <th>joint_3</th>\n",
       "      <th>joint_4</th>\n",
       "      <th>joint_5</th>\n",
       "      <th>x</th>\n",
       "      <th>y</th>\n",
       "      <th>z</th>\n",
       "    </tr>\n",
       "  </thead>\n",
       "  <tbody>\n",
       "    <tr>\n",
       "      <th>0</th>\n",
       "      <td>-1.490554</td>\n",
       "      <td>-0.575344</td>\n",
       "      <td>-2.497704</td>\n",
       "      <td>0.783136</td>\n",
       "      <td>-0.794136</td>\n",
       "      <td>-5.090668</td>\n",
       "      <td>-0.003073</td>\n",
       "      <td>-0.369845</td>\n",
       "      <td>0.974694</td>\n",
       "    </tr>\n",
       "    <tr>\n",
       "      <th>1</th>\n",
       "      <td>1.268094</td>\n",
       "      <td>-0.673851</td>\n",
       "      <td>-1.588101</td>\n",
       "      <td>-3.159301</td>\n",
       "      <td>1.822181</td>\n",
       "      <td>5.669746</td>\n",
       "      <td>0.175270</td>\n",
       "      <td>0.564963</td>\n",
       "      <td>0.857058</td>\n",
       "    </tr>\n",
       "    <tr>\n",
       "      <th>2</th>\n",
       "      <td>1.139133</td>\n",
       "      <td>0.082702</td>\n",
       "      <td>0.816177</td>\n",
       "      <td>-1.139029</td>\n",
       "      <td>-0.535171</td>\n",
       "      <td>6.465722</td>\n",
       "      <td>0.012923</td>\n",
       "      <td>0.100015</td>\n",
       "      <td>0.040055</td>\n",
       "    </tr>\n",
       "    <tr>\n",
       "      <th>3</th>\n",
       "      <td>0.625910</td>\n",
       "      <td>0.619670</td>\n",
       "      <td>-0.711847</td>\n",
       "      <td>-0.362054</td>\n",
       "      <td>-1.497531</td>\n",
       "      <td>-5.998428</td>\n",
       "      <td>0.358412</td>\n",
       "      <td>0.287417</td>\n",
       "      <td>-0.234620</td>\n",
       "    </tr>\n",
       "    <tr>\n",
       "      <th>4</th>\n",
       "      <td>2.481490</td>\n",
       "      <td>0.952712</td>\n",
       "      <td>-2.911307</td>\n",
       "      <td>0.137935</td>\n",
       "      <td>0.263415</td>\n",
       "      <td>-5.043665</td>\n",
       "      <td>-0.550294</td>\n",
       "      <td>0.424230</td>\n",
       "      <td>0.210514</td>\n",
       "    </tr>\n",
       "  </tbody>\n",
       "</table>\n",
       "</div>"
      ],
      "text/plain": [
       "    joint_0   joint_1   joint_2   joint_3   joint_4   joint_5         x  \\\n",
       "0 -1.490554 -0.575344 -2.497704  0.783136 -0.794136 -5.090668 -0.003073   \n",
       "1  1.268094 -0.673851 -1.588101 -3.159301  1.822181  5.669746  0.175270   \n",
       "2  1.139133  0.082702  0.816177 -1.139029 -0.535171  6.465722  0.012923   \n",
       "3  0.625910  0.619670 -0.711847 -0.362054 -1.497531 -5.998428  0.358412   \n",
       "4  2.481490  0.952712 -2.911307  0.137935  0.263415 -5.043665 -0.550294   \n",
       "\n",
       "          y         z  \n",
       "0 -0.369845  0.974694  \n",
       "1  0.564963  0.857058  \n",
       "2  0.100015  0.040055  \n",
       "3  0.287417 -0.234620  \n",
       "4  0.424230  0.210514  "
      ]
     },
     "execution_count": 3,
     "metadata": {},
     "output_type": "execute_result"
    }
   ],
   "source": [
    "# Loading the dataset\n",
    "\n",
    "data = pd.read_csv('ik_dataset_2.csv')\n",
    "data.head()"
   ]
  },
  {
   "cell_type": "code",
   "execution_count": 4,
   "metadata": {},
   "outputs": [
    {
     "data": {
      "text/html": [
       "<div>\n",
       "<style scoped>\n",
       "    .dataframe tbody tr th:only-of-type {\n",
       "        vertical-align: middle;\n",
       "    }\n",
       "\n",
       "    .dataframe tbody tr th {\n",
       "        vertical-align: top;\n",
       "    }\n",
       "\n",
       "    .dataframe thead th {\n",
       "        text-align: right;\n",
       "    }\n",
       "</style>\n",
       "<table border=\"1\" class=\"dataframe\">\n",
       "  <thead>\n",
       "    <tr style=\"text-align: right;\">\n",
       "      <th></th>\n",
       "      <th>joint_0</th>\n",
       "      <th>joint_1</th>\n",
       "      <th>joint_2</th>\n",
       "      <th>joint_3</th>\n",
       "      <th>joint_4</th>\n",
       "      <th>joint_5</th>\n",
       "      <th>x</th>\n",
       "      <th>y</th>\n",
       "      <th>z</th>\n",
       "    </tr>\n",
       "  </thead>\n",
       "  <tbody>\n",
       "    <tr>\n",
       "      <th>0</th>\n",
       "      <td>0.262770</td>\n",
       "      <td>0.335176</td>\n",
       "      <td>0.274615</td>\n",
       "      <td>0.612176</td>\n",
       "      <td>0.310414</td>\n",
       "      <td>0.135407</td>\n",
       "      <td>0.498048</td>\n",
       "      <td>0.288605</td>\n",
       "      <td>0.886813</td>\n",
       "    </tr>\n",
       "    <tr>\n",
       "      <th>1</th>\n",
       "      <td>0.701823</td>\n",
       "      <td>0.306955</td>\n",
       "      <td>0.460745</td>\n",
       "      <td>0.047463</td>\n",
       "      <td>0.935015</td>\n",
       "      <td>0.906066</td>\n",
       "      <td>0.600031</td>\n",
       "      <td>0.823207</td>\n",
       "      <td>0.813741</td>\n",
       "    </tr>\n",
       "    <tr>\n",
       "      <th>2</th>\n",
       "      <td>0.681298</td>\n",
       "      <td>0.523692</td>\n",
       "      <td>0.952729</td>\n",
       "      <td>0.336846</td>\n",
       "      <td>0.372238</td>\n",
       "      <td>0.963074</td>\n",
       "      <td>0.507195</td>\n",
       "      <td>0.557311</td>\n",
       "      <td>0.306247</td>\n",
       "    </tr>\n",
       "    <tr>\n",
       "      <th>3</th>\n",
       "      <td>0.599616</td>\n",
       "      <td>0.677522</td>\n",
       "      <td>0.640052</td>\n",
       "      <td>0.448139</td>\n",
       "      <td>0.142491</td>\n",
       "      <td>0.070393</td>\n",
       "      <td>0.704759</td>\n",
       "      <td>0.664483</td>\n",
       "      <td>0.135628</td>\n",
       "    </tr>\n",
       "    <tr>\n",
       "      <th>4</th>\n",
       "      <td>0.894941</td>\n",
       "      <td>0.772932</td>\n",
       "      <td>0.189980</td>\n",
       "      <td>0.519757</td>\n",
       "      <td>0.562886</td>\n",
       "      <td>0.138773</td>\n",
       "      <td>0.185126</td>\n",
       "      <td>0.742725</td>\n",
       "      <td>0.412130</td>\n",
       "    </tr>\n",
       "  </tbody>\n",
       "</table>\n",
       "</div>"
      ],
      "text/plain": [
       "    joint_0   joint_1   joint_2   joint_3   joint_4   joint_5         x  \\\n",
       "0  0.262770  0.335176  0.274615  0.612176  0.310414  0.135407  0.498048   \n",
       "1  0.701823  0.306955  0.460745  0.047463  0.935015  0.906066  0.600031   \n",
       "2  0.681298  0.523692  0.952729  0.336846  0.372238  0.963074  0.507195   \n",
       "3  0.599616  0.677522  0.640052  0.448139  0.142491  0.070393  0.704759   \n",
       "4  0.894941  0.772932  0.189980  0.519757  0.562886  0.138773  0.185126   \n",
       "\n",
       "          y         z  \n",
       "0  0.288605  0.886813  \n",
       "1  0.823207  0.813741  \n",
       "2  0.557311  0.306247  \n",
       "3  0.664483  0.135628  \n",
       "4  0.742725  0.412130  "
      ]
     },
     "execution_count": 4,
     "metadata": {},
     "output_type": "execute_result"
    }
   ],
   "source": [
    "# Normalising the data \n",
    "\n",
    "scaler = MinMaxScaler()\n",
    "data = pd.DataFrame(scaler.fit_transform(data))\n",
    "data.columns = ['joint_0','joint_1','joint_2','joint_3','joint_4','joint_5','x','y','z']\n",
    "data.head()"
   ]
  },
  {
   "cell_type": "code",
   "execution_count": 5,
   "metadata": {},
   "outputs": [
    {
     "data": {
      "text/plain": [
       "'cuda'"
      ]
     },
     "execution_count": 5,
     "metadata": {},
     "output_type": "execute_result"
    }
   ],
   "source": [
    "# Device agnostic code\n",
    "\n",
    "if torch.cuda.is_available():\n",
    "    device = 'cuda'\n",
    "else:\n",
    "    device = 'cpu'\n",
    "device"
   ]
  },
  {
   "cell_type": "code",
   "execution_count": 6,
   "metadata": {},
   "outputs": [
    {
     "data": {
      "text/plain": [
       "(torch.Size([1000000, 3]), torch.Size([1000000, 6]))"
      ]
     },
     "execution_count": 6,
     "metadata": {},
     "output_type": "execute_result"
    }
   ],
   "source": [
    "# Converting data to tensors \n",
    "\n",
    "xtest = torch.Tensor(data[['x','y','z']].to_numpy())\n",
    "ytest = torch.Tensor(data[['joint_0','joint_1','joint_2','joint_3','joint_4','joint_5']].to_numpy())\n",
    "\n",
    "xtest.shape, ytest.shape"
   ]
  },
  {
   "cell_type": "code",
   "execution_count": 7,
   "metadata": {},
   "outputs": [],
   "source": [
    "\n",
    "# Defining the model \n",
    "\n",
    "class InverseKinematicsABBIRB140(nn.Module):\n",
    "    \n",
    "    \"\"\" This is a model structure specifically designed to calculate the inverse kinematics of the industrial robot ABB IRB 140, but can be used for any robot\n",
    "        This has a layer structure of input -> 64 -> 128 -> 64 -> output with non-linear activation and normalisation layers\n",
    "    Args:\n",
    "        input_features (int): defines the number of features given as input to the model\n",
    "        output_features (int): defines the number of features the model outputs\n",
    "    \"\"\"\n",
    "    \n",
    "    def __init__(self, input_features, output_features):\n",
    "        super().__init__()\n",
    "        self.layer_stack_1 = nn.Sequential(\n",
    "            nn.Linear(in_features=input_features, out_features=128),\n",
    "            nn.ReLU(),\n",
    "            nn.BatchNorm1d(num_features=128),\n",
    "            nn.Dropout()\n",
    "        )\n",
    "        self.layer_stack_2 = nn.Sequential(\n",
    "            nn.Linear(in_features=128, out_features=128),\n",
    "            nn.ReLU(),\n",
    "            nn.BatchNorm1d(num_features=128),\n",
    "            nn.Dropout()\n",
    "        )\n",
    "        self.layer_stack_3 = nn.Sequential(\n",
    "            nn.Linear(in_features=128, out_features=128),\n",
    "            nn.ReLU(),\n",
    "            nn.BatchNorm1d(num_features=128),\n",
    "            nn.Dropout()\n",
    "        )\n",
    "        self.layer_stack_4 = nn.Sequential(\n",
    "            nn.Linear(in_features=128, out_features=128),\n",
    "            nn.ReLU(),\n",
    "            nn.BatchNorm1d(num_features=128),\n",
    "            nn.Dropout(),\n",
    "            nn.Linear(in_features=128, out_features=output_features)\n",
    "        )\n",
    "    \n",
    "    def forward(self, x):\n",
    "        x = self.layer_stack_1(x)\n",
    "        x = self.layer_stack_2(x)\n",
    "        x = self.layer_stack_3(x)\n",
    "        x = self.layer_stack_4(x)\n",
    "        return x   \n",
    "    "
   ]
  },
  {
   "cell_type": "code",
   "execution_count": 8,
   "metadata": {},
   "outputs": [
    {
     "data": {
      "text/plain": [
       "<All keys matched successfully>"
      ]
     },
     "execution_count": 8,
     "metadata": {},
     "output_type": "execute_result"
    }
   ],
   "source": [
    "# Instantiating various models used \n",
    "\n",
    "model_0 = InverseKinematicsABBIRB140(input_features=3,output_features=1)\n",
    "model_1 = InverseKinematicsABBIRB140(input_features=4,output_features=1)\n",
    "model_2 = InverseKinematicsABBIRB140(input_features=5,output_features=1)\n",
    "model_3 = InverseKinematicsABBIRB140(input_features=6,output_features=1)\n",
    "model_4 = InverseKinematicsABBIRB140(input_features=7,output_features=1)\n",
    "model_5 = InverseKinematicsABBIRB140(input_features=8,output_features=1)\n",
    "\n",
    "model_0.load_state_dict(torch.load(f=PATH+\"model_0.pth\"))\n",
    "model_1.load_state_dict(torch.load(f=PATH+\"model_1.pth\"))\n",
    "model_2.load_state_dict(torch.load(f=PATH+\"model_2.pth\"))\n",
    "model_3.load_state_dict(torch.load(f=PATH+\"model_3.pth\"))\n",
    "model_4.load_state_dict(torch.load(f=PATH+\"model_4.pth\"))\n",
    "model_5.load_state_dict(torch.load(f=PATH+\"model_5.pth\"))"
   ]
  },
  {
   "cell_type": "code",
   "execution_count": 9,
   "metadata": {},
   "outputs": [],
   "source": [
    "# Calculate all the joint angles from our models\n",
    "\n",
    "model_0.eval()\n",
    "with torch.inference_mode():\n",
    "    joint_0_pred = model_0(xtest)\n",
    "    \n",
    "model_1.eval()\n",
    "with torch.inference_mode():\n",
    "    joint_1_pred = model_1(torch.cat((xtest, joint_0_pred), dim=1))\n",
    "    \n",
    "model_2.eval()\n",
    "with torch.inference_mode():\n",
    "    joint_2_pred = model_2(torch.cat((xtest, joint_0_pred, joint_1_pred), dim=1))\n",
    "    \n",
    "model_3.eval()\n",
    "with torch.inference_mode():\n",
    "    joint_3_pred = model_3(torch.cat((xtest, joint_0_pred, joint_1_pred, joint_2_pred), dim=1))\n",
    "    \n",
    "model_4.eval()\n",
    "with torch.inference_mode():\n",
    "    joint_4_pred = model_4(torch.cat((xtest, joint_0_pred, joint_1_pred, joint_2_pred, joint_3_pred), dim=1))\n",
    "    \n",
    "model_5.eval()\n",
    "with torch.inference_mode():\n",
    "    joint_5_pred = model_5(torch.cat((xtest, joint_0_pred, joint_1_pred, joint_2_pred, joint_3_pred, joint_4_pred), dim=1))\n",
    "\n",
    "ypred = torch.cat((joint_0_pred, joint_1_pred, joint_2_pred, joint_3_pred, joint_4_pred, joint_5_pred), dim=1)"
   ]
  },
  {
   "cell_type": "code",
   "execution_count": 10,
   "metadata": {},
   "outputs": [
    {
     "data": {
      "text/plain": [
       "(tensor([[0.3512, 0.2365, 0.3941, 0.5058, 0.4158, 0.5105],\n",
       "         [0.6862, 0.2931, 0.4594, 0.5059, 0.5642, 0.5116],\n",
       "         [0.4281, 0.7174, 0.8999, 0.5049, 0.6645, 0.5108],\n",
       "         [0.5896, 0.7627, 0.4699, 0.5077, 0.6306, 0.5121],\n",
       "         [0.8876, 0.5675, 0.4553, 0.5046, 0.5657, 0.5120]]),\n",
       " tensor([[0.2628, 0.3352, 0.2746, 0.6122, 0.3104, 0.1354],\n",
       "         [0.7018, 0.3070, 0.4607, 0.0475, 0.9350, 0.9061],\n",
       "         [0.6813, 0.5237, 0.9527, 0.3368, 0.3722, 0.9631],\n",
       "         [0.5996, 0.6775, 0.6401, 0.4481, 0.1425, 0.0704],\n",
       "         [0.8949, 0.7729, 0.1900, 0.5198, 0.5629, 0.1388]]))"
      ]
     },
     "execution_count": 10,
     "metadata": {},
     "output_type": "execute_result"
    }
   ],
   "source": [
    "ypred[:5], ytest[:5]"
   ]
  },
  {
   "cell_type": "code",
   "execution_count": 11,
   "metadata": {},
   "outputs": [],
   "source": [
    "loss_fn_1 = nn.MSELoss()"
   ]
  },
  {
   "cell_type": "code",
   "execution_count": 19,
   "metadata": {},
   "outputs": [
    {
     "data": {
      "text/plain": [
       "tensor(0.0620)"
      ]
     },
     "execution_count": 19,
     "metadata": {},
     "output_type": "execute_result"
    }
   ],
   "source": [
    "loss_fn_1(ypred, ytest)"
   ]
  },
  {
   "cell_type": "code",
   "execution_count": 13,
   "metadata": {},
   "outputs": [],
   "source": [
    "loss_fn_2 = nn.L1Loss()"
   ]
  },
  {
   "cell_type": "code",
   "execution_count": 17,
   "metadata": {},
   "outputs": [
    {
     "data": {
      "text/plain": [
       "tensor(0.1975)"
      ]
     },
     "execution_count": 17,
     "metadata": {},
     "output_type": "execute_result"
    }
   ],
   "source": [
    "loss_fn_2(ypred, ytest)"
   ]
  },
  {
   "cell_type": "markdown",
   "metadata": {},
   "source": [
    "### Final Loss\n",
    "\n",
    "1) Direct Approach :\n",
    "    1) MSE Loss : 0.1127\n",
    "    2) L1 Loss :0.2747\n",
    "2) Sequential Approach :\n",
    "    1) MSE Loss : 0.0620\n",
    "    2) L1 Loss : 0.1975"
   ]
  }
 ],
 "metadata": {
  "kernelspec": {
   "display_name": "TorchEnv2",
   "language": "python",
   "name": "python3"
  },
  "language_info": {
   "codemirror_mode": {
    "name": "ipython",
    "version": 3
   },
   "file_extension": ".py",
   "mimetype": "text/x-python",
   "name": "python",
   "nbconvert_exporter": "python",
   "pygments_lexer": "ipython3",
   "version": "3.12.3"
  }
 },
 "nbformat": 4,
 "nbformat_minor": 2
}
