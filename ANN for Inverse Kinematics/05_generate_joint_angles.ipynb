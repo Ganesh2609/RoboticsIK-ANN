{
 "cells": [
  {
   "cell_type": "code",
   "execution_count": 13,
   "metadata": {},
   "outputs": [],
   "source": [
    "# importing libraries\n",
    "\n",
    "import numpy as np \n",
    "import pandas as pd\n",
    "import matplotlib.pyplot as plt \n",
    "\n",
    "from sklearn import metrics\n",
    "from sklearn.preprocessing import MinMaxScaler\n",
    "\n",
    "import torch \n",
    "from torch import nn "
   ]
  },
  {
   "cell_type": "code",
   "execution_count": 14,
   "metadata": {},
   "outputs": [],
   "source": [
    "# Define the batch size and model save paths\n",
    "\n",
    "BATCH_SIZE = 128\n",
    "PATH = 'Models/02_Sequential_10M/'"
   ]
  },
  {
   "cell_type": "code",
   "execution_count": 15,
   "metadata": {},
   "outputs": [
    {
     "data": {
      "text/html": [
       "<div>\n",
       "<style scoped>\n",
       "    .dataframe tbody tr th:only-of-type {\n",
       "        vertical-align: middle;\n",
       "    }\n",
       "\n",
       "    .dataframe tbody tr th {\n",
       "        vertical-align: top;\n",
       "    }\n",
       "\n",
       "    .dataframe thead th {\n",
       "        text-align: right;\n",
       "    }\n",
       "</style>\n",
       "<table border=\"1\" class=\"dataframe\">\n",
       "  <thead>\n",
       "    <tr style=\"text-align: right;\">\n",
       "      <th></th>\n",
       "      <th>x</th>\n",
       "      <th>y</th>\n",
       "      <th>z</th>\n",
       "    </tr>\n",
       "  </thead>\n",
       "  <tbody>\n",
       "    <tr>\n",
       "      <th>0</th>\n",
       "      <td>0.053</td>\n",
       "      <td>0.196</td>\n",
       "      <td>0.1065</td>\n",
       "    </tr>\n",
       "    <tr>\n",
       "      <th>1</th>\n",
       "      <td>0.053</td>\n",
       "      <td>0.195</td>\n",
       "      <td>0.1065</td>\n",
       "    </tr>\n",
       "    <tr>\n",
       "      <th>2</th>\n",
       "      <td>0.053</td>\n",
       "      <td>0.194</td>\n",
       "      <td>0.1065</td>\n",
       "    </tr>\n",
       "    <tr>\n",
       "      <th>3</th>\n",
       "      <td>0.053</td>\n",
       "      <td>0.193</td>\n",
       "      <td>0.1065</td>\n",
       "    </tr>\n",
       "    <tr>\n",
       "      <th>4</th>\n",
       "      <td>0.052</td>\n",
       "      <td>0.193</td>\n",
       "      <td>0.1065</td>\n",
       "    </tr>\n",
       "  </tbody>\n",
       "</table>\n",
       "</div>"
      ],
      "text/plain": [
       "       x      y       z\n",
       "0  0.053  0.196  0.1065\n",
       "1  0.053  0.195  0.1065\n",
       "2  0.053  0.194  0.1065\n",
       "3  0.053  0.193  0.1065\n",
       "4  0.052  0.193  0.1065"
      ]
     },
     "execution_count": 15,
     "metadata": {},
     "output_type": "execute_result"
    }
   ],
   "source": [
    "# Loading the dataset\n",
    "\n",
    "data = pd.read_csv('end_coordinates.csv')\n",
    "data.head()"
   ]
  },
  {
   "cell_type": "code",
   "execution_count": 16,
   "metadata": {},
   "outputs": [
    {
     "data": {
      "text/html": [
       "<div>\n",
       "<style scoped>\n",
       "    .dataframe tbody tr th:only-of-type {\n",
       "        vertical-align: middle;\n",
       "    }\n",
       "\n",
       "    .dataframe tbody tr th {\n",
       "        vertical-align: top;\n",
       "    }\n",
       "\n",
       "    .dataframe thead th {\n",
       "        text-align: right;\n",
       "    }\n",
       "</style>\n",
       "<table border=\"1\" class=\"dataframe\">\n",
       "  <thead>\n",
       "    <tr style=\"text-align: right;\">\n",
       "      <th></th>\n",
       "      <th>x</th>\n",
       "      <th>y</th>\n",
       "      <th>z</th>\n",
       "    </tr>\n",
       "  </thead>\n",
       "  <tbody>\n",
       "    <tr>\n",
       "      <th>0</th>\n",
       "      <td>0.149425</td>\n",
       "      <td>1.000000</td>\n",
       "      <td>0.0</td>\n",
       "    </tr>\n",
       "    <tr>\n",
       "      <th>1</th>\n",
       "      <td>0.149425</td>\n",
       "      <td>0.994872</td>\n",
       "      <td>0.0</td>\n",
       "    </tr>\n",
       "    <tr>\n",
       "      <th>2</th>\n",
       "      <td>0.149425</td>\n",
       "      <td>0.989744</td>\n",
       "      <td>0.0</td>\n",
       "    </tr>\n",
       "    <tr>\n",
       "      <th>3</th>\n",
       "      <td>0.149425</td>\n",
       "      <td>0.984615</td>\n",
       "      <td>0.0</td>\n",
       "    </tr>\n",
       "    <tr>\n",
       "      <th>4</th>\n",
       "      <td>0.146552</td>\n",
       "      <td>0.984615</td>\n",
       "      <td>0.0</td>\n",
       "    </tr>\n",
       "  </tbody>\n",
       "</table>\n",
       "</div>"
      ],
      "text/plain": [
       "          x         y    z\n",
       "0  0.149425  1.000000  0.0\n",
       "1  0.149425  0.994872  0.0\n",
       "2  0.149425  0.989744  0.0\n",
       "3  0.149425  0.984615  0.0\n",
       "4  0.146552  0.984615  0.0"
      ]
     },
     "execution_count": 16,
     "metadata": {},
     "output_type": "execute_result"
    }
   ],
   "source": [
    "# Normalising the data \n",
    "\n",
    "scaler = MinMaxScaler()\n",
    "data = pd.DataFrame(scaler.fit_transform(data))\n",
    "data.columns = ['x','y','z']\n",
    "data.head()"
   ]
  },
  {
   "cell_type": "code",
   "execution_count": 17,
   "metadata": {},
   "outputs": [
    {
     "data": {
      "text/plain": [
       "'cuda'"
      ]
     },
     "execution_count": 17,
     "metadata": {},
     "output_type": "execute_result"
    }
   ],
   "source": [
    "# Device agnostic code\n",
    "\n",
    "if torch.cuda.is_available():\n",
    "    device = 'cuda'\n",
    "else:\n",
    "    device = 'cpu'\n",
    "device"
   ]
  },
  {
   "cell_type": "code",
   "execution_count": 18,
   "metadata": {},
   "outputs": [
    {
     "data": {
      "text/plain": [
       "torch.Size([3891, 3])"
      ]
     },
     "execution_count": 18,
     "metadata": {},
     "output_type": "execute_result"
    }
   ],
   "source": [
    "# Converting data to tensors \n",
    "\n",
    "coordinates = torch.Tensor(data[['x','y','z']].to_numpy())\n",
    "\n",
    "coordinates.shape"
   ]
  },
  {
   "cell_type": "code",
   "execution_count": 19,
   "metadata": {},
   "outputs": [],
   "source": [
    "\n",
    "# Defining the model \n",
    "\n",
    "class InverseKinematicsABBIRB140(nn.Module):\n",
    "    \n",
    "    \"\"\" This is a model structure specifically designed to calculate the inverse kinematics of the industrial robot ABB IRB 140, but can be used for any robot\n",
    "        This has a layer structure of input -> 64 -> 128 -> 64 -> output with non-linear activation and normalisation layers\n",
    "    Args:\n",
    "        input_features (int): defines the number of features given as input to the model\n",
    "        output_features (int): defines the number of features the model outputs\n",
    "    \"\"\"\n",
    "    \n",
    "    def __init__(self, input_features, output_features):\n",
    "        super().__init__()\n",
    "        self.layer_stack_1 = nn.Sequential(\n",
    "            nn.Linear(in_features=input_features, out_features=128),\n",
    "            nn.ReLU(),\n",
    "            nn.BatchNorm1d(num_features=128),\n",
    "            nn.Dropout()\n",
    "        )\n",
    "        self.layer_stack_2 = nn.Sequential(\n",
    "            nn.Linear(in_features=128, out_features=128),\n",
    "            nn.ReLU(),\n",
    "            nn.BatchNorm1d(num_features=128),\n",
    "            nn.Dropout()\n",
    "        )\n",
    "        self.layer_stack_3 = nn.Sequential(\n",
    "            nn.Linear(in_features=128, out_features=128),\n",
    "            nn.ReLU(),\n",
    "            nn.BatchNorm1d(num_features=128),\n",
    "            nn.Dropout()\n",
    "        )\n",
    "        self.layer_stack_4 = nn.Sequential(\n",
    "            nn.Linear(in_features=128, out_features=128),\n",
    "            nn.ReLU(),\n",
    "            nn.BatchNorm1d(num_features=128),\n",
    "            nn.Dropout(),\n",
    "            nn.Linear(in_features=128, out_features=output_features)\n",
    "        )\n",
    "    \n",
    "    def forward(self, x):\n",
    "        x = self.layer_stack_1(x)\n",
    "        x = self.layer_stack_2(x)\n",
    "        x = self.layer_stack_3(x)\n",
    "        x = self.layer_stack_4(x)\n",
    "        return x   \n",
    "    "
   ]
  },
  {
   "cell_type": "code",
   "execution_count": 20,
   "metadata": {},
   "outputs": [
    {
     "data": {
      "text/plain": [
       "<All keys matched successfully>"
      ]
     },
     "execution_count": 20,
     "metadata": {},
     "output_type": "execute_result"
    }
   ],
   "source": [
    "# Instantiating various models used \n",
    "\n",
    "model_0 = InverseKinematicsABBIRB140(input_features=3,output_features=1)\n",
    "model_1 = InverseKinematicsABBIRB140(input_features=4,output_features=1)\n",
    "model_2 = InverseKinematicsABBIRB140(input_features=5,output_features=1)\n",
    "model_3 = InverseKinematicsABBIRB140(input_features=6,output_features=1)\n",
    "model_4 = InverseKinematicsABBIRB140(input_features=7,output_features=1)\n",
    "model_5 = InverseKinematicsABBIRB140(input_features=8,output_features=1)\n",
    "\n",
    "model_0.load_state_dict(torch.load(f=PATH+\"model_0.pth\"))\n",
    "model_1.load_state_dict(torch.load(f=PATH+\"model_1.pth\"))\n",
    "model_2.load_state_dict(torch.load(f=PATH+\"model_2.pth\"))\n",
    "model_3.load_state_dict(torch.load(f=PATH+\"model_3.pth\"))\n",
    "model_4.load_state_dict(torch.load(f=PATH+\"model_4.pth\"))\n",
    "model_5.load_state_dict(torch.load(f=PATH+\"model_5.pth\"))"
   ]
  },
  {
   "cell_type": "code",
   "execution_count": 21,
   "metadata": {},
   "outputs": [],
   "source": [
    "# Calculate all the joint angles from our models\n",
    "\n",
    "def get_joint_angles(end_effector_coordinates:torch.Tensor) -> torch.Tensor:\n",
    "    model_0.eval()\n",
    "    with torch.inference_mode():\n",
    "        joint_0_pred = model_0(end_effector_coordinates)\n",
    "        \n",
    "    model_1.eval()\n",
    "    with torch.inference_mode():\n",
    "        joint_1_pred = model_1(torch.cat((end_effector_coordinates, joint_0_pred), dim=1))\n",
    "        \n",
    "    model_2.eval()\n",
    "    with torch.inference_mode():\n",
    "        joint_2_pred = model_2(torch.cat((end_effector_coordinates, joint_0_pred, joint_1_pred), dim=1))\n",
    "        \n",
    "    model_3.eval()\n",
    "    with torch.inference_mode():\n",
    "        joint_3_pred = model_3(torch.cat((end_effector_coordinates, joint_0_pred, joint_1_pred, joint_2_pred), dim=1))\n",
    "        \n",
    "    model_4.eval()\n",
    "    with torch.inference_mode():\n",
    "        joint_4_pred = model_4(torch.cat((end_effector_coordinates, joint_0_pred, joint_1_pred, joint_2_pred, joint_3_pred), dim=1))\n",
    "        \n",
    "    model_5.eval()\n",
    "    with torch.inference_mode():\n",
    "        joint_5_pred = model_5(torch.cat((end_effector_coordinates, joint_0_pred, joint_1_pred, joint_2_pred, joint_3_pred, joint_4_pred), dim=1))\n",
    "        \n",
    "    return torch.cat((joint_0_pred, joint_1_pred, joint_2_pred, joint_3_pred, joint_4_pred, joint_5_pred), dim=1)"
   ]
  },
  {
   "cell_type": "code",
   "execution_count": 23,
   "metadata": {},
   "outputs": [
    {
     "data": {
      "text/plain": [
       "tensor([[0.8429, 0.7719, 0.5464, 0.5046, 0.5083, 0.5126],\n",
       "        [0.8434, 0.7725, 0.5463, 0.5046, 0.5078, 0.5126],\n",
       "        [0.8438, 0.7731, 0.5462, 0.5045, 0.5073, 0.5126],\n",
       "        ...,\n",
       "        [0.3270, 0.7681, 0.5585, 0.5617, 0.4039, 0.5118],\n",
       "        [0.3280, 0.7691, 0.5581, 0.5603, 0.4055, 0.5118],\n",
       "        [0.3312, 0.7722, 0.5569, 0.5572, 0.4127, 0.5117]])"
      ]
     },
     "execution_count": 23,
     "metadata": {},
     "output_type": "execute_result"
    }
   ],
   "source": [
    "ypred = get_joint_angles(coordinates)\n",
    "ypred"
   ]
  },
  {
   "cell_type": "code",
   "execution_count": 24,
   "metadata": {},
   "outputs": [],
   "source": [
    "output = pd.DataFrame(ypred.numpy(), columns=['joint_0','joint_1','joint_2','joint_3','joint_4','joint_5'])\n",
    "output.to_csv('joint_angles.csv', index=False)"
   ]
  }
 ],
 "metadata": {
  "kernelspec": {
   "display_name": "TorchEnv2",
   "language": "python",
   "name": "python3"
  },
  "language_info": {
   "codemirror_mode": {
    "name": "ipython",
    "version": 3
   },
   "file_extension": ".py",
   "mimetype": "text/x-python",
   "name": "python",
   "nbconvert_exporter": "python",
   "pygments_lexer": "ipython3",
   "version": "3.12.3"
  }
 },
 "nbformat": 4,
 "nbformat_minor": 2
}
