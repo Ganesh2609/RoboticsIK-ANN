{
 "cells": [
  {
   "cell_type": "code",
   "execution_count": 60,
   "metadata": {},
   "outputs": [],
   "source": [
    "# importing libraries\n",
    "\n",
    "import numpy as np \n",
    "import pandas as pd\n",
    "import matplotlib.pyplot as plt \n",
    "\n",
    "from sklearn import metrics\n",
    "from sklearn.preprocessing import MinMaxScaler\n",
    "\n",
    "import torch \n",
    "from torch import nn "
   ]
  },
  {
   "cell_type": "code",
   "execution_count": 61,
   "metadata": {},
   "outputs": [],
   "source": [
    "# Define the batch size and model save paths\n",
    "\n",
    "BATCH_SIZE = 128\n",
    "PATH = 'Models/01_Direct_10M/'"
   ]
  },
  {
   "cell_type": "code",
   "execution_count": 62,
   "metadata": {},
   "outputs": [
    {
     "data": {
      "text/html": [
       "<div>\n",
       "<style scoped>\n",
       "    .dataframe tbody tr th:only-of-type {\n",
       "        vertical-align: middle;\n",
       "    }\n",
       "\n",
       "    .dataframe tbody tr th {\n",
       "        vertical-align: top;\n",
       "    }\n",
       "\n",
       "    .dataframe thead th {\n",
       "        text-align: right;\n",
       "    }\n",
       "</style>\n",
       "<table border=\"1\" class=\"dataframe\">\n",
       "  <thead>\n",
       "    <tr style=\"text-align: right;\">\n",
       "      <th></th>\n",
       "      <th>joint_0</th>\n",
       "      <th>joint_1</th>\n",
       "      <th>joint_2</th>\n",
       "      <th>joint_3</th>\n",
       "      <th>joint_4</th>\n",
       "      <th>joint_5</th>\n",
       "      <th>x</th>\n",
       "      <th>y</th>\n",
       "      <th>z</th>\n",
       "    </tr>\n",
       "  </thead>\n",
       "  <tbody>\n",
       "    <tr>\n",
       "      <th>0</th>\n",
       "      <td>2.675345</td>\n",
       "      <td>0.691554</td>\n",
       "      <td>2.023822</td>\n",
       "      <td>0.245126</td>\n",
       "      <td>1.865613</td>\n",
       "      <td>0.730238</td>\n",
       "      <td>-0.318110</td>\n",
       "      <td>0.186086</td>\n",
       "      <td>0.750141</td>\n",
       "    </tr>\n",
       "    <tr>\n",
       "      <th>1</th>\n",
       "      <td>-1.787474</td>\n",
       "      <td>0.297828</td>\n",
       "      <td>-0.546427</td>\n",
       "      <td>-0.220475</td>\n",
       "      <td>0.097833</td>\n",
       "      <td>0.294982</td>\n",
       "      <td>-0.130555</td>\n",
       "      <td>-0.603010</td>\n",
       "      <td>-0.347686</td>\n",
       "    </tr>\n",
       "    <tr>\n",
       "      <th>2</th>\n",
       "      <td>2.572510</td>\n",
       "      <td>-2.728705</td>\n",
       "      <td>1.440937</td>\n",
       "      <td>3.092787</td>\n",
       "      <td>-0.589794</td>\n",
       "      <td>-2.233969</td>\n",
       "      <td>0.350076</td>\n",
       "      <td>-0.227156</td>\n",
       "      <td>-0.400677</td>\n",
       "    </tr>\n",
       "    <tr>\n",
       "      <th>3</th>\n",
       "      <td>-0.323000</td>\n",
       "      <td>-2.374566</td>\n",
       "      <td>-3.110326</td>\n",
       "      <td>-2.896323</td>\n",
       "      <td>2.700566</td>\n",
       "      <td>-1.937711</td>\n",
       "      <td>0.350737</td>\n",
       "      <td>-0.106469</td>\n",
       "      <td>-0.210679</td>\n",
       "    </tr>\n",
       "    <tr>\n",
       "      <th>4</th>\n",
       "      <td>-0.931573</td>\n",
       "      <td>-1.593713</td>\n",
       "      <td>2.104227</td>\n",
       "      <td>-1.325443</td>\n",
       "      <td>1.427286</td>\n",
       "      <td>-0.029970</td>\n",
       "      <td>0.459477</td>\n",
       "      <td>-0.457196</td>\n",
       "      <td>-0.451925</td>\n",
       "    </tr>\n",
       "  </tbody>\n",
       "</table>\n",
       "</div>"
      ],
      "text/plain": [
       "    joint_0   joint_1   joint_2   joint_3   joint_4   joint_5         x  \\\n",
       "0  2.675345  0.691554  2.023822  0.245126  1.865613  0.730238 -0.318110   \n",
       "1 -1.787474  0.297828 -0.546427 -0.220475  0.097833  0.294982 -0.130555   \n",
       "2  2.572510 -2.728705  1.440937  3.092787 -0.589794 -2.233969  0.350076   \n",
       "3 -0.323000 -2.374566 -3.110326 -2.896323  2.700566 -1.937711  0.350737   \n",
       "4 -0.931573 -1.593713  2.104227 -1.325443  1.427286 -0.029970  0.459477   \n",
       "\n",
       "          y         z  \n",
       "0  0.186086  0.750141  \n",
       "1 -0.603010 -0.347686  \n",
       "2 -0.227156 -0.400677  \n",
       "3 -0.106469 -0.210679  \n",
       "4 -0.457196 -0.451925  "
      ]
     },
     "execution_count": 62,
     "metadata": {},
     "output_type": "execute_result"
    }
   ],
   "source": [
    "# Loading the dataset\n",
    "\n",
    "data = pd.read_csv('ik_dataset_1.csv')\n",
    "data.head()"
   ]
  },
  {
   "cell_type": "code",
   "execution_count": 63,
   "metadata": {},
   "outputs": [
    {
     "data": {
      "text/html": [
       "<div>\n",
       "<style scoped>\n",
       "    .dataframe tbody tr th:only-of-type {\n",
       "        vertical-align: middle;\n",
       "    }\n",
       "\n",
       "    .dataframe tbody tr th {\n",
       "        vertical-align: top;\n",
       "    }\n",
       "\n",
       "    .dataframe thead th {\n",
       "        text-align: right;\n",
       "    }\n",
       "</style>\n",
       "<table border=\"1\" class=\"dataframe\">\n",
       "  <thead>\n",
       "    <tr style=\"text-align: right;\">\n",
       "      <th></th>\n",
       "      <th>joint_0</th>\n",
       "      <th>joint_1</th>\n",
       "      <th>joint_2</th>\n",
       "      <th>joint_3</th>\n",
       "      <th>joint_4</th>\n",
       "      <th>joint_5</th>\n",
       "      <th>x</th>\n",
       "      <th>y</th>\n",
       "      <th>z</th>\n",
       "    </tr>\n",
       "  </thead>\n",
       "  <tbody>\n",
       "    <tr>\n",
       "      <th>0</th>\n",
       "      <td>0.925907</td>\n",
       "      <td>0.610119</td>\n",
       "      <td>0.822168</td>\n",
       "      <td>0.539028</td>\n",
       "      <td>0.796835</td>\n",
       "      <td>0.616467</td>\n",
       "      <td>0.347672</td>\n",
       "      <td>0.584083</td>\n",
       "      <td>0.886867</td>\n",
       "    </tr>\n",
       "    <tr>\n",
       "      <th>1</th>\n",
       "      <td>0.215465</td>\n",
       "      <td>0.547441</td>\n",
       "      <td>0.413060</td>\n",
       "      <td>0.464921</td>\n",
       "      <td>0.515361</td>\n",
       "      <td>0.547166</td>\n",
       "      <td>0.435933</td>\n",
       "      <td>0.209645</td>\n",
       "      <td>0.236153</td>\n",
       "    </tr>\n",
       "    <tr>\n",
       "      <th>2</th>\n",
       "      <td>0.909537</td>\n",
       "      <td>0.065643</td>\n",
       "      <td>0.729390</td>\n",
       "      <td>0.992273</td>\n",
       "      <td>0.405874</td>\n",
       "      <td>0.144506</td>\n",
       "      <td>0.662112</td>\n",
       "      <td>0.387993</td>\n",
       "      <td>0.204744</td>\n",
       "    </tr>\n",
       "    <tr>\n",
       "      <th>3</th>\n",
       "      <td>0.448596</td>\n",
       "      <td>0.122019</td>\n",
       "      <td>0.004962</td>\n",
       "      <td>0.039022</td>\n",
       "      <td>0.929781</td>\n",
       "      <td>0.191677</td>\n",
       "      <td>0.662424</td>\n",
       "      <td>0.445261</td>\n",
       "      <td>0.317361</td>\n",
       "    </tr>\n",
       "    <tr>\n",
       "      <th>4</th>\n",
       "      <td>0.351717</td>\n",
       "      <td>0.246324</td>\n",
       "      <td>0.834966</td>\n",
       "      <td>0.289049</td>\n",
       "      <td>0.727043</td>\n",
       "      <td>0.495427</td>\n",
       "      <td>0.713595</td>\n",
       "      <td>0.278836</td>\n",
       "      <td>0.174368</td>\n",
       "    </tr>\n",
       "  </tbody>\n",
       "</table>\n",
       "</div>"
      ],
      "text/plain": [
       "    joint_0   joint_1   joint_2   joint_3   joint_4   joint_5         x  \\\n",
       "0  0.925907  0.610119  0.822168  0.539028  0.796835  0.616467  0.347672   \n",
       "1  0.215465  0.547441  0.413060  0.464921  0.515361  0.547166  0.435933   \n",
       "2  0.909537  0.065643  0.729390  0.992273  0.405874  0.144506  0.662112   \n",
       "3  0.448596  0.122019  0.004962  0.039022  0.929781  0.191677  0.662424   \n",
       "4  0.351717  0.246324  0.834966  0.289049  0.727043  0.495427  0.713595   \n",
       "\n",
       "          y         z  \n",
       "0  0.584083  0.886867  \n",
       "1  0.209645  0.236153  \n",
       "2  0.387993  0.204744  \n",
       "3  0.445261  0.317361  \n",
       "4  0.278836  0.174368  "
      ]
     },
     "execution_count": 63,
     "metadata": {},
     "output_type": "execute_result"
    }
   ],
   "source": [
    "# Normalising the data \n",
    "\n",
    "scaler = MinMaxScaler()\n",
    "data = pd.DataFrame(scaler.fit_transform(data))\n",
    "data.columns = ['joint_0','joint_1','joint_2','joint_3','joint_4','joint_5','x','y','z']\n",
    "data.head()"
   ]
  },
  {
   "cell_type": "code",
   "execution_count": 64,
   "metadata": {},
   "outputs": [
    {
     "data": {
      "text/plain": [
       "'cuda'"
      ]
     },
     "execution_count": 64,
     "metadata": {},
     "output_type": "execute_result"
    }
   ],
   "source": [
    "# Device agnostic code\n",
    "\n",
    "if torch.cuda.is_available():\n",
    "    device = 'cuda'\n",
    "else:\n",
    "    device = 'cpu'\n",
    "device"
   ]
  },
  {
   "cell_type": "code",
   "execution_count": 65,
   "metadata": {},
   "outputs": [
    {
     "data": {
      "text/plain": [
       "(torch.Size([10000, 3]), torch.Size([10000, 6]))"
      ]
     },
     "execution_count": 65,
     "metadata": {},
     "output_type": "execute_result"
    }
   ],
   "source": [
    "# Converting data to tensors \n",
    "\n",
    "xtest = torch.Tensor(data[['x','y','z']].to_numpy())\n",
    "ytest = torch.Tensor(data[['joint_0','joint_1','joint_2','joint_3','joint_4','joint_5']].to_numpy())\n",
    "\n",
    "xtest.shape, ytest.shape"
   ]
  },
  {
   "cell_type": "code",
   "execution_count": 66,
   "metadata": {},
   "outputs": [],
   "source": [
    "\n",
    "# Defining the model \n",
    "\n",
    "class InverseKinematicsABBIRB140(nn.Module):\n",
    "    \n",
    "    \"\"\" This is a model structure specifically designed to calculate the inverse kinematics of the industrial robot ABB IRB 140, but can be used for any robot\n",
    "        This has a layer structure of input -> 64 -> 128 -> 64 -> output with non-linear activation and normalisation layers\n",
    "    Args:\n",
    "        input_features (int): defines the number of features given as input to the model\n",
    "        output_features (int): defines the number of features the model outputs\n",
    "    \"\"\"\n",
    "    \n",
    "    def __init__(self, input_features, output_features):\n",
    "        super().__init__()\n",
    "        self.layer_stack_1 = nn.Sequential(\n",
    "            nn.Linear(in_features=input_features, out_features=128),\n",
    "            nn.ReLU(),\n",
    "            nn.BatchNorm1d(num_features=128),\n",
    "            nn.Dropout()\n",
    "        )\n",
    "        self.layer_stack_2 = nn.Sequential(\n",
    "            nn.Linear(in_features=128, out_features=128),\n",
    "            nn.ReLU(),\n",
    "            nn.BatchNorm1d(num_features=128),\n",
    "            nn.Dropout()\n",
    "        )\n",
    "        self.layer_stack_3 = nn.Sequential(\n",
    "            nn.Linear(in_features=128, out_features=128),\n",
    "            nn.ReLU(),\n",
    "            nn.BatchNorm1d(num_features=128),\n",
    "            nn.Dropout()\n",
    "        )\n",
    "        self.layer_stack_4 = nn.Sequential(\n",
    "            nn.Linear(in_features=128, out_features=128),\n",
    "            nn.ReLU(),\n",
    "            nn.BatchNorm1d(num_features=128),\n",
    "            nn.Dropout(),\n",
    "            nn.Linear(in_features=128, out_features=output_features)\n",
    "        )\n",
    "    \n",
    "    def forward(self, x):\n",
    "        x = self.layer_stack_1(x)\n",
    "        x = self.layer_stack_2(x)\n",
    "        x = self.layer_stack_3(x)\n",
    "        x = self.layer_stack_4(x)\n",
    "        return x   \n",
    "    "
   ]
  },
  {
   "cell_type": "code",
   "execution_count": 67,
   "metadata": {},
   "outputs": [
    {
     "data": {
      "text/plain": [
       "<All keys matched successfully>"
      ]
     },
     "execution_count": 67,
     "metadata": {},
     "output_type": "execute_result"
    }
   ],
   "source": [
    "# Instantiating various models used \n",
    "\n",
    "model = InverseKinematicsABBIRB140(input_features=3,output_features=6)\n",
    "model.load_state_dict(torch.load(f=PATH+'model_0.pth'))"
   ]
  },
  {
   "cell_type": "code",
   "execution_count": 68,
   "metadata": {},
   "outputs": [],
   "source": [
    "# Calculate all the joint angles from our models\n",
    "\n",
    "model.eval()\n",
    "with torch.inference_mode():\n",
    "    ypred = model(xtest)\n",
    "    "
   ]
  },
  {
   "cell_type": "code",
   "execution_count": 69,
   "metadata": {},
   "outputs": [
    {
     "data": {
      "text/plain": [
       "(tensor([[0.7606, 0.1590, 0.3960, 0.5019, 0.5044, 0.5104],\n",
       "         [0.2310, 0.7022, 0.4747, 0.5008, 0.5026, 0.4905],\n",
       "         [0.5942, 0.7389, 0.7678, 0.5015, 0.5122, 0.5012],\n",
       "         [0.6140, 0.6540, 0.8947, 0.4963, 0.5168, 0.5016],\n",
       "         [0.3840, 0.7324, 0.4675, 0.5022, 0.5037, 0.4931]]),\n",
       " tensor([[0.9259, 0.6101, 0.8222, 0.5390, 0.7968, 0.6165],\n",
       "         [0.2155, 0.5474, 0.4131, 0.4649, 0.5154, 0.5472],\n",
       "         [0.9095, 0.0656, 0.7294, 0.9923, 0.4059, 0.1445],\n",
       "         [0.4486, 0.1220, 0.0050, 0.0390, 0.9298, 0.1917],\n",
       "         [0.3517, 0.2463, 0.8350, 0.2890, 0.7270, 0.4954]]))"
      ]
     },
     "execution_count": 69,
     "metadata": {},
     "output_type": "execute_result"
    }
   ],
   "source": [
    "ypred[:5], ytest[:5]"
   ]
  },
  {
   "cell_type": "code",
   "execution_count": 70,
   "metadata": {},
   "outputs": [],
   "source": [
    "loss_fn_1 = nn.MSELoss()"
   ]
  },
  {
   "cell_type": "code",
   "execution_count": 71,
   "metadata": {},
   "outputs": [
    {
     "data": {
      "text/plain": [
       "tensor(0.1127)"
      ]
     },
     "execution_count": 71,
     "metadata": {},
     "output_type": "execute_result"
    }
   ],
   "source": [
    "loss_fn_1(ypred, ytest)"
   ]
  },
  {
   "cell_type": "code",
   "execution_count": 72,
   "metadata": {},
   "outputs": [],
   "source": [
    "loss_fn_2 = nn.L1Loss()"
   ]
  },
  {
   "cell_type": "code",
   "execution_count": 73,
   "metadata": {},
   "outputs": [
    {
     "data": {
      "text/plain": [
       "tensor(0.2747)"
      ]
     },
     "execution_count": 73,
     "metadata": {},
     "output_type": "execute_result"
    }
   ],
   "source": [
    "loss_fn_2(ypred, ytest)"
   ]
  },
  {
   "cell_type": "markdown",
   "metadata": {},
   "source": [
    "### Final Loss\n",
    "\n",
    "1) Direct Approach :\n",
    "    1) MSE Loss : 0.1127\n",
    "    2) L1 Loss :0.2747\n",
    "2) Sequential Approach :\n",
    "    1) MSE Loss : 0.0620\n",
    "    2) L1 Loss : 0.1975"
   ]
  }
 ],
 "metadata": {
  "kernelspec": {
   "display_name": "TorchEnv2",
   "language": "python",
   "name": "python3"
  },
  "language_info": {
   "codemirror_mode": {
    "name": "ipython",
    "version": 3
   },
   "file_extension": ".py",
   "mimetype": "text/x-python",
   "name": "python",
   "nbconvert_exporter": "python",
   "pygments_lexer": "ipython3",
   "version": "3.12.3"
  }
 },
 "nbformat": 4,
 "nbformat_minor": 2
}
